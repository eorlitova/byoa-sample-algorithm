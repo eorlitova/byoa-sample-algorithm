{
 "cells": [
  {
   "cell_type": "code",
   "execution_count": null,
   "id": "6d0b642b",
   "metadata": {
    "tags": [
     "parameters"
    ]
   },
   "outputs": [],
   "source": [
    "# here you can place default parameters which will be overwritten by the \n",
    "# actual parameters in a new cell below\n",
    "spatial_res = 0.00018\n",
    "band_name = \"B04\"\n",
    "aoi = \"POLYGON ((12.079468 41.770491, 12.079468 42.284492, 12.928162 42.284492, 12.928162 41.770491, 12.079468 41.770491))\"\n",
    "maxCC = 99.5"
   ]
  },
  {
   "cell_type": "code",
   "execution_count": null,
   "id": "1fb22a8c",
   "metadata": {},
   "outputs": [],
   "source": [
    "# calculate the price in credits based on input parameters\n",
    "price = 1 / spatial_res / 100\n",
    "\n",
    "if band_name == \"B08\":\n",
    "    price *= 2\n",
    "    \n",
    "# price must be an integer amount of credits\n",
    "price = int(price)"
   ]
  },
  {
   "cell_type": "code",
   "execution_count": null,
   "id": "a1ef2813",
   "metadata": {},
   "outputs": [],
   "source": [
    "# use this snippet to transmit the price to the platform\n",
    "import scrapbook\n",
    "scrapbook.glue(\"\", price)"
   ]
  }
 ],
 "metadata": {
  "celltoolbar": "Tags",
  "kernelspec": {
   "display_name": "EDC 0.24.5 (Python3)",
   "language": "python",
   "name": "edc"
  },
  "language_info": {
   "codemirror_mode": {
    "name": "ipython",
    "version": 3
   },
   "file_extension": ".py",
   "mimetype": "text/x-python",
   "name": "python",
   "nbconvert_exporter": "python",
   "pygments_lexer": "ipython3",
   "version": "3.8.10"
  }
 },
 "nbformat": 4,
 "nbformat_minor": 5
}
