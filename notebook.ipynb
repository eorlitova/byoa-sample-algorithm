{
 "cells": [
  {
   "cell_type": "code",
   "execution_count": null,
   "metadata": {
    "tags": [
     "parameters"
    ]
   },
   "outputs": [],
   "source": [
    "# here you can place default parameters which will be overwritten by the \n",
    "# actual parameters in a new cell below\n",
    "spatial_res = 0.00018\n",
    "aoi = \"POLYGON ((11.519165 41.786673, 11.519165 42.259016, 12.420044 42.259016, 12.420044 41.786673, 11.519165 41.786673))\""
   ]
  },
  {
   "cell_type": "code",
   "execution_count": null,
   "metadata": {},
   "outputs": [],
   "source": [
    "# Configure logging to stderr such that messages appear in notebook\n",
    "# NOTE: Logging messages from python files which are called from the notebook \n",
    "#       will then also appear in the notebook.\n",
    "import logging\n",
    "logging.basicConfig(\n",
    "    level=logging.INFO,\n",
    "    format='%(asctime)s [%(levelname)s] %(name)s - %(message)s',\n",
    ")"
   ]
  },
  {
   "cell_type": "code",
   "execution_count": null,
   "metadata": {},
   "outputs": [],
   "source": [
    "from pathlib import Path\n",
    "\n",
    "# This is a fixed path you can use to write the output file to.\n",
    "# The data written here will end up in a unique location for every job run.\n",
    "output_dir = Path(\"/home/jovyan/result-data\")"
   ]
  },
  {
   "cell_type": "code",
   "execution_count": null,
   "metadata": {},
   "outputs": [],
   "source": [
    "import shapely.wkt\n",
    "\n",
    "# aoi is passed as WKT, need bbox\n",
    "polygon = shapely.wkt.loads(aoi)\n",
    "bbox = polygon.bounds\n",
    "bbox"
   ]
  },
  {
   "cell_type": "code",
   "execution_count": null,
   "metadata": {},
   "outputs": [],
   "source": [
    "from datetime import date, timedelta\n",
    "from xcube_sh.config import CubeConfig\n",
    "from xcube_sh.cube import open_cube\n",
    "import xcube.core.maskset as maskset\n",
    "import xarray as xr\n",
    "\n",
    "# credentials from your EDC account are automatically available as environment variables\n",
    "# which are then used by xcube_sh\n",
    "\n",
    "date_today = date.today()\n",
    "cube_config = CubeConfig(dataset_name='S2L2A',\n",
    "                         band_names=['B04', 'B05', 'B06', 'SCL'],\n",
    "                         tile_size=[512, 512],\n",
    "                         bbox=bbox,\n",
    "                         spatial_res=spatial_res,\n",
    "                         time_range=[(date_today - timedelta(days=10)).strftime(\"%Y-%m-%d\"), (date_today - timedelta(days=1)).strftime(\"%Y-%m-%d\")])\n",
    "\n",
    "cube = open_cube(cube_config)\n",
    "\n",
    "# print basic information here to help with debugging\n",
    "water_cube = cube.where(maskset.MaskSet(cube.SCL).water)\n",
    "water_cube"
   ]
  },
  {
   "cell_type": "code",
   "execution_count": null,
   "metadata": {},
   "outputs": [],
   "source": [
    "b_from = water_cube.B04\n",
    "b_peek = water_cube.B05\n",
    "b_to = water_cube.B06\n",
    "\n",
    "wlen_from = b_from.attrs['wavelength']\n",
    "wlen_peek = b_peek.attrs['wavelength']\n",
    "wlen_to = b_to.attrs['wavelength']\n",
    "\n",
    "f = (wlen_peek - wlen_from) / (wlen_to - wlen_from)\n",
    "mci = (b_peek - b_from) - f * (b_to - b_from)\n",
    "\n",
    "mci.attrs['long_name'] = 'Maximum Chlorophyll Index'\n",
    "mci.attrs['units'] = 'unitless'\n",
    "mci"
   ]
  },
  {
   "cell_type": "code",
   "execution_count": null,
   "metadata": {},
   "outputs": [],
   "source": [
    "result = xr.Dataset({'mci': mci}).mci.isel(time=-1)\n",
    "logging.info(\"size: %s\", result.size)"
   ]
  },
  {
   "cell_type": "code",
   "execution_count": null,
   "metadata": {},
   "outputs": [],
   "source": [
    "%matplotlib inline\n",
    "import IPython.display\n",
    "result.plot.imshow(vmin=0, vmax=0.005, cmap='viridis', figsize=(16, 10))"
   ]
  },
  {
   "cell_type": "code",
   "execution_count": null,
   "metadata": {},
   "outputs": [],
   "source": [
    "filename = date_today.strftime(\"%Y-%m-%d\") + \".tif\"\n",
    "result.rio.to_raster(output_dir / filename, dtype=\"float32\")\n",
    "logging.info(\"file %s written\", filename)"
   ]
  }
 ],
 "metadata": {
  "celltoolbar": "Tags",
  "kernelspec": {
   "display_name": "EDC 0.24.5 (Python3)",
   "language": "python",
   "name": "edc"
  },
  "language_info": {
   "codemirror_mode": {
    "name": "ipython",
    "version": 3
   },
   "file_extension": ".py",
   "mimetype": "text/x-python",
   "name": "python",
   "nbconvert_exporter": "python",
   "pygments_lexer": "ipython3",
   "version": "3.8.10"
  }
 },
 "nbformat": 4,
 "nbformat_minor": 4
}
