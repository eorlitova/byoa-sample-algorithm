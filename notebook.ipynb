{
 "cells": [
  {
   "cell_type": "code",
   "execution_count": null,
   "metadata": {
    "tags": [
     "parameters"
    ]
   },
   "outputs": [],
   "source": [
    "# here you can place default parameters which will be overwritten by the \n",
    "# actual parameters in a new cell below\n",
    "spatial_res = 0.00018\n",
    "band_name = \"B04\""
   ]
  },
  {
   "cell_type": "code",
   "execution_count": null,
   "metadata": {},
   "outputs": [],
   "source": [
    "from pathlib import Path\n",
    "\n",
    "# This is a fixed path you can use to write the output file to.\n",
    "# The data written here will end up in a unique location for every job run.\n",
    "output_dir = Path(\"/home/jovyan/result-data\")"
   ]
  },
  {
   "cell_type": "code",
   "execution_count": null,
   "metadata": {},
   "outputs": [],
   "source": [
    "# credentials from your EDC account are automatically available as environment variables\n",
    "# which are then used by xcube_sh\n",
    "\n",
    "from xcube_sh.config import CubeConfig\n",
    "from xcube_sh.cube import open_cube\n",
    "\n",
    "cube_config = CubeConfig(\n",
    "    dataset_name=\"S2L2A\",\n",
    "    band_names=[band_name],\n",
    "    tile_size=[512, 512],\n",
    "    bbox=(10.00, 54.27, 10.30, 54.50),\n",
    "    spatial_res=spatial_res,\n",
    "    time_range=[\"2018-05-02\", \"2018-05-15\"],\n",
    "    time_period=\"3D\",\n",
    ")\n",
    "cube = open_cube(cube_config)\n",
    "\n",
    "# print basic information here to help with debugging\n",
    "cube[band_name]"
   ]
  },
  {
   "cell_type": "code",
   "execution_count": null,
   "metadata": {},
   "outputs": [],
   "source": [
    "# perform relevant calculation\n",
    "result = cube[band_name] * 3"
   ]
  },
  {
   "cell_type": "code",
   "execution_count": null,
   "metadata": {},
   "outputs": [],
   "source": [
    "# write result to output_dir\n",
    "result.rio.to_raster(output_dir / \"out.tif\")"
   ]
  },
  {
   "cell_type": "code",
   "execution_count": null,
   "metadata": {},
   "outputs": [],
   "source": [
    "# Optional: write a report file for end users\n",
    "(output_dir / \"info.txt\").write_text(f\"Algorithm returned data for {band_name}, size is {cube[band_name].size}\\n\")"
   ]
  }
 ],
 "metadata": {
  "celltoolbar": "Tags",
  "kernelspec": {
   "display_name": "EDC 0.24.5 (Python3)",
   "language": "python",
   "name": "edc"
  },
  "language_info": {
   "codemirror_mode": {
    "name": "ipython",
    "version": 3
   },
   "file_extension": ".py",
   "mimetype": "text/x-python",
   "name": "python",
   "nbconvert_exporter": "python",
   "pygments_lexer": "ipython3",
   "version": "3.8.10"
  }
 },
 "nbformat": 4,
 "nbformat_minor": 4
}
